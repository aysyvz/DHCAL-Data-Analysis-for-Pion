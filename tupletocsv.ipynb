{
  "cells": [
    {
      "cell_type": "code",
      "execution_count": null,
      "id": "bfd3ead4",
      "metadata": {
        "id": "bfd3ead4"
      },
      "outputs": [],
      "source": [
        "!wget https://github.com/MohamedElashri/HEP-ML/releases/download/ROOT/ROOT.tar.zip\n",
        "!unzip /content/ROOT.tar.zip\n",
        "!tar -xf  ROOT.tar\n",
        "!apt-get install git dpkg-dev cmake g++ gcc binutils libx11-dev libxpm-dev libxft-dev libxext-dev tar gfortran subversion\n",
        "!pip install root_numpy # optional if you want to convert Trees to numpy arrays and other things like that\n",
        "\n",
        "import sys\n",
        "sys.path.append(\"/content/root_build/\")\n",
        "sys.path.append(\"/content/root_build/bin/\")\n",
        "sys.path.append(\"/content/root_build/include/\")\n",
        "sys.path.append(\"/content/root_build/lib/\")\n",
        "import ctypes\n",
        "ctypes.cdll.LoadLibrary('/content/root_build/lib//libCore.so')\n",
        "ctypes.cdll.LoadLibrary('/content/root_build/lib//libThread.so')\n",
        "ctypes.cdll.LoadLibrary('/content/root_build/lib//libTreePlayer.so')\n",
        "\n",
        "import ROOT"
      ]
    },
    {
      "cell_type": "code",
      "execution_count": 2,
      "id": "8e87cd3f",
      "metadata": {
        "colab": {
          "base_uri": "https://localhost:8080/"
        },
        "id": "8e87cd3f",
        "outputId": "9e7649b8-eaa3-46d1-863f-8257ae64f434"
      },
      "outputs": [
        {
          "output_type": "stream",
          "name": "stdout",
          "text": [
            "Mounted at /content/drive\n"
          ]
        }
      ],
      "source": [
        "import numpy as np\n",
        "import pandas as pd\n",
        "from google.colab import drive\n",
        "from google.colab import files\n",
        "\n",
        "drive.mount('/content/drive')"
      ]
    },
    {
      "cell_type": "code",
      "execution_count": 3,
      "id": "319dd845",
      "metadata": {
        "id": "319dd845"
      },
      "outputs": [],
      "source": [
        "path = '/content/drive/MyDrive/Colab Notebooks/run660494.ntuple.root'\n",
        "file=ROOT.TFile(path , 'read')\n",
        "tree=file.Get('DHCALEvent')\n",
        "events=tree.GetEntries()"
      ]
    },
    {
      "cell_type": "code",
      "execution_count": 4,
      "id": "bdb6e96c",
      "metadata": {
        "id": "bdb6e96c"
      },
      "outputs": [],
      "source": [
        "t=[]\n",
        "x=[]\n",
        "y=[]\n",
        "z=[]\n",
        "ind=[]\n",
        "for entry in tree:\n",
        "    eventno=entry.EventNo\n",
        "    cerenkov=entry.Cerenkov\n",
        "    triggert=entry.TriggerTime\n",
        "    l=entry.x.size()\n",
        "    t.append(triggert)\n",
        "    x.append(-1)\n",
        "    y.append(0)\n",
        "    z.append(-1)\n",
        "    ind.append(eventno)\n",
        "    for i in range(0,l):\n",
        "        ind.append(eventno)\n",
        "        t.append(entry.t.at(i))\n",
        "        x.append(entry.x.at(i))\n",
        "        y.append(entry.y.at(i))\n",
        "        z.append(entry.z.at(i))"
      ]
    },
    {
      "cell_type": "code",
      "execution_count": 5,
      "id": "11f1effc",
      "metadata": {
        "id": "11f1effc"
      },
      "outputs": [],
      "source": [
        "df=pd.DataFrame()\n",
        "df['t']=t\n",
        "df['x']=x\n",
        "df['y']=y\n",
        "df['z']=z\n",
        "df.index=ind"
      ]
    },
    {
      "cell_type": "code",
      "execution_count": 6,
      "id": "a54a8ec0",
      "metadata": {
        "id": "a54a8ec0"
      },
      "outputs": [],
      "source": [
        "export = '/content/drive/MyDrive/Colab Notebooks/'\n",
        "df.to_csv(export+\"r494.csv\", sep='\\t', encoding='utf-8')"
      ]
    }
  ],
  "metadata": {
    "kernelspec": {
      "display_name": "Python 3 (ipykernel)",
      "language": "python",
      "name": "python3"
    },
    "language_info": {
      "codemirror_mode": {
        "name": "ipython",
        "version": 3
      },
      "file_extension": ".py",
      "mimetype": "text/x-python",
      "name": "python",
      "nbconvert_exporter": "python",
      "pygments_lexer": "ipython3",
      "version": "3.8.10"
    },
    "colab": {
      "provenance": [],
      "collapsed_sections": []
    }
  },
  "nbformat": 4,
  "nbformat_minor": 5
}